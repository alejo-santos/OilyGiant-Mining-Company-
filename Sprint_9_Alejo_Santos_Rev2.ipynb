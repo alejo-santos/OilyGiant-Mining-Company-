{
 "cells": [
  {
   "cell_type": "markdown",
   "metadata": {},
   "source": [
    "**Review**\n",
    "\n",
    "Hello Alejo!\n",
    "\n",
    "I'm happy to review your project today.\n",
    "  \n",
    "You can find my comments in colored markdown cells:\n",
    "  \n",
    "<div class=\"alert alert-success\">\n",
    "  If everything is done successfully.\n",
    "</div>\n",
    "  \n",
    "<div class=\"alert alert-warning\">\n",
    "  If I have some (optional) suggestions, or questions to think about, or general comments.\n",
    "</div>\n",
    "  \n",
    "<div class=\"alert alert-danger\">\n",
    "  If a section requires some corrections. Work can't be accepted with red comments.\n",
    "</div>\n",
    "  \n",
    "Please don't remove my comments, as it will make further review iterations much harder for me.\n",
    "  \n",
    "Feel free to reply to my comments or ask questions using the following template:\n",
    "  \n",
    "<div class=\"alert alert-info\">\n",
    "  For your comments and questions.\n",
    "</div>\n",
    "  \n",
    "First of all, thank you for turning in the project! You did an excellent job! The project is accepted. Keep up the good work on the next sprint!"
   ]
  },
  {
   "cell_type": "markdown",
   "metadata": {},
   "source": [
    "# Project Introduction"
   ]
  },
  {
   "cell_type": "markdown",
   "metadata": {},
   "source": [
    "At OilyGiant Mining Company, strategic planning for new oil well development is critical for maximizing profitability. Our latest project aims to identify the optimal location for a new oil well by leveraging advanced predictive modeling and comprehensive risk analysis. This project focuses on evaluating three potential regions, each with distinct geological profiles, to determine the most profitable site for new drilling operations.\n",
    "\n",
    "Project Objectives:\n",
    "\n",
    "Data Collection and Preparation: Gather and preprocess oil well data, including oil quality and reserve volumes, from three distinct regions.\n",
    "\n",
    "Model Development: Construct a predictive model to estimate the volume of reserves for new wells using linear regression.\n",
    "\n",
    "Selection of Optimal Wells: Identify the top-performing wells based on predicted reserve volumes.\n",
    "\n",
    "Profit Maximization: Choose the region with the highest cumulative profit from the selected wells, considering budget constraints and revenue potential.\n",
    "\n",
    "Risk and Profit Analysis: Employ bootstrapping techniques to evaluate potential profits and associated risks, ensuring informed decision-making."
   ]
  },
  {
   "cell_type": "markdown",
   "metadata": {},
   "source": [
    "## Import libraries, Download and Prepare Data"
   ]
  },
  {
   "cell_type": "markdown",
   "metadata": {},
   "source": [
    "### Importing Libraries"
   ]
  },
  {
   "cell_type": "code",
   "execution_count": 1,
   "metadata": {},
   "outputs": [],
   "source": [
    "import pandas as pd\n",
    "import numpy as np\n",
    "import matplotlib.pyplot as plt\n",
    "from sklearn.model_selection import train_test_split\n",
    "from sklearn.linear_model import LinearRegression\n",
    "from sklearn.metrics import mean_squared_error"
   ]
  },
  {
   "cell_type": "markdown",
   "metadata": {},
   "source": [
    "### Loading Datasets"
   ]
  },
  {
   "cell_type": "code",
   "execution_count": 2,
   "metadata": {},
   "outputs": [],
   "source": [
    "try:\n",
    "    geo1 = pd.read_csv('datasets/geo_data_0.csv')\n",
    "    geo2 = pd.read_csv('datasets/geo_data_1.csv')\n",
    "    geo3 = pd.read_csv('datasets/geo_data_2.csv')\n",
    "    datasets = [geo1, geo2, geo3]\n",
    "except:\n",
    "    print('File not found!')"
   ]
  },
  {
   "cell_type": "code",
   "execution_count": 3,
   "metadata": {},
   "outputs": [
    {
     "data": {
      "text/plain": [
       "[          id        f0        f1        f2     product\n",
       " 0      txEyH  0.705745 -0.497823  1.221170  105.280062\n",
       " 1      2acmU  1.334711 -0.340164  4.365080   73.037750\n",
       " 2      409Wp  1.022732  0.151990  1.419926   85.265647\n",
       " 3      iJLyR -0.032172  0.139033  2.978566  168.620776\n",
       " 4      Xdl7t  1.988431  0.155413  4.751769  154.036647\n",
       " ...      ...       ...       ...       ...         ...\n",
       " 99995  DLsed  0.971957  0.370953  6.075346  110.744026\n",
       " 99996  QKivN  1.392429 -0.382606  1.273912  122.346843\n",
       " 99997  3rnvd  1.029585  0.018787 -1.348308   64.375443\n",
       " 99998  7kl59  0.998163 -0.528582  1.583869   74.040764\n",
       " 99999  1CWhH  1.764754 -0.266417  5.722849  149.633246\n",
       " \n",
       " [100000 rows x 5 columns],\n",
       "           id         f0         f1        f2     product\n",
       " 0      kBEdx -15.001348  -8.276000 -0.005876    3.179103\n",
       " 1      62mP7  14.272088  -3.475083  0.999183   26.953261\n",
       " 2      vyE1P   6.263187  -5.948386  5.001160  134.766305\n",
       " 3      KcrkZ -13.081196 -11.506057  4.999415  137.945408\n",
       " 4      AHL4O  12.702195  -8.147433  5.004363  134.766305\n",
       " ...      ...        ...        ...       ...         ...\n",
       " 99995  QywKC   9.535637  -6.878139  1.998296   53.906522\n",
       " 99996  ptvty -10.160631 -12.558096  5.005581  137.945408\n",
       " 99997  09gWa  -7.378891  -3.084104  4.998651  137.945408\n",
       " 99998  rqwUm   0.665714  -6.152593  1.000146   30.132364\n",
       " 99999  relB0  -3.426139  -7.794274 -0.003299    3.179103\n",
       " \n",
       " [100000 rows x 5 columns],\n",
       "           id        f0        f1        f2     product\n",
       " 0      fwXo0 -1.146987  0.963328 -0.828965   27.758673\n",
       " 1      WJtFt  0.262778  0.269839 -2.530187   56.069697\n",
       " 2      ovLUW  0.194587  0.289035 -5.586433   62.871910\n",
       " 3      q6cA6  2.236060 -0.553760  0.930038  114.572842\n",
       " 4      WPMUX -0.515993  1.716266  5.899011  149.600746\n",
       " ...      ...       ...       ...       ...         ...\n",
       " 99995  4GxBu -1.777037  1.125220  6.263374  172.327046\n",
       " 99996  YKFjq -1.261523 -0.894828  2.524545  138.748846\n",
       " 99997  tKPY3 -1.199934 -2.957637  5.219411  157.080080\n",
       " 99998  nmxp2 -2.419896  2.417221 -5.548444   51.795253\n",
       " 99999  V9kWn -2.551421 -2.025625  6.090891  102.775767\n",
       " \n",
       " [100000 rows x 5 columns]]"
      ]
     },
     "execution_count": 3,
     "metadata": {},
     "output_type": "execute_result"
    }
   ],
   "source": [
    "datasets"
   ]
  },
  {
   "cell_type": "code",
   "execution_count": 4,
   "metadata": {},
   "outputs": [
    {
     "data": {
      "text/html": [
       "<div>\n",
       "<style scoped>\n",
       "    .dataframe tbody tr th:only-of-type {\n",
       "        vertical-align: middle;\n",
       "    }\n",
       "\n",
       "    .dataframe tbody tr th {\n",
       "        vertical-align: top;\n",
       "    }\n",
       "\n",
       "    .dataframe thead th {\n",
       "        text-align: right;\n",
       "    }\n",
       "</style>\n",
       "<table border=\"1\" class=\"dataframe\">\n",
       "  <thead>\n",
       "    <tr style=\"text-align: right;\">\n",
       "      <th></th>\n",
       "      <th>id</th>\n",
       "      <th>f0</th>\n",
       "      <th>f1</th>\n",
       "      <th>f2</th>\n",
       "      <th>product</th>\n",
       "    </tr>\n",
       "  </thead>\n",
       "  <tbody>\n",
       "    <tr>\n",
       "      <th>0</th>\n",
       "      <td>txEyH</td>\n",
       "      <td>0.705745</td>\n",
       "      <td>-0.497823</td>\n",
       "      <td>1.221170</td>\n",
       "      <td>105.280062</td>\n",
       "    </tr>\n",
       "    <tr>\n",
       "      <th>1</th>\n",
       "      <td>2acmU</td>\n",
       "      <td>1.334711</td>\n",
       "      <td>-0.340164</td>\n",
       "      <td>4.365080</td>\n",
       "      <td>73.037750</td>\n",
       "    </tr>\n",
       "    <tr>\n",
       "      <th>2</th>\n",
       "      <td>409Wp</td>\n",
       "      <td>1.022732</td>\n",
       "      <td>0.151990</td>\n",
       "      <td>1.419926</td>\n",
       "      <td>85.265647</td>\n",
       "    </tr>\n",
       "    <tr>\n",
       "      <th>3</th>\n",
       "      <td>iJLyR</td>\n",
       "      <td>-0.032172</td>\n",
       "      <td>0.139033</td>\n",
       "      <td>2.978566</td>\n",
       "      <td>168.620776</td>\n",
       "    </tr>\n",
       "    <tr>\n",
       "      <th>4</th>\n",
       "      <td>Xdl7t</td>\n",
       "      <td>1.988431</td>\n",
       "      <td>0.155413</td>\n",
       "      <td>4.751769</td>\n",
       "      <td>154.036647</td>\n",
       "    </tr>\n",
       "  </tbody>\n",
       "</table>\n",
       "</div>"
      ],
      "text/plain": [
       "      id        f0        f1        f2     product\n",
       "0  txEyH  0.705745 -0.497823  1.221170  105.280062\n",
       "1  2acmU  1.334711 -0.340164  4.365080   73.037750\n",
       "2  409Wp  1.022732  0.151990  1.419926   85.265647\n",
       "3  iJLyR -0.032172  0.139033  2.978566  168.620776\n",
       "4  Xdl7t  1.988431  0.155413  4.751769  154.036647"
      ]
     },
     "execution_count": 4,
     "metadata": {},
     "output_type": "execute_result"
    }
   ],
   "source": [
    "geo1.head()"
   ]
  },
  {
   "cell_type": "code",
   "execution_count": 5,
   "metadata": {},
   "outputs": [
    {
     "data": {
      "text/html": [
       "<div>\n",
       "<style scoped>\n",
       "    .dataframe tbody tr th:only-of-type {\n",
       "        vertical-align: middle;\n",
       "    }\n",
       "\n",
       "    .dataframe tbody tr th {\n",
       "        vertical-align: top;\n",
       "    }\n",
       "\n",
       "    .dataframe thead th {\n",
       "        text-align: right;\n",
       "    }\n",
       "</style>\n",
       "<table border=\"1\" class=\"dataframe\">\n",
       "  <thead>\n",
       "    <tr style=\"text-align: right;\">\n",
       "      <th></th>\n",
       "      <th>id</th>\n",
       "      <th>f0</th>\n",
       "      <th>f1</th>\n",
       "      <th>f2</th>\n",
       "      <th>product</th>\n",
       "    </tr>\n",
       "  </thead>\n",
       "  <tbody>\n",
       "    <tr>\n",
       "      <th>0</th>\n",
       "      <td>kBEdx</td>\n",
       "      <td>-15.001348</td>\n",
       "      <td>-8.276000</td>\n",
       "      <td>-0.005876</td>\n",
       "      <td>3.179103</td>\n",
       "    </tr>\n",
       "    <tr>\n",
       "      <th>1</th>\n",
       "      <td>62mP7</td>\n",
       "      <td>14.272088</td>\n",
       "      <td>-3.475083</td>\n",
       "      <td>0.999183</td>\n",
       "      <td>26.953261</td>\n",
       "    </tr>\n",
       "    <tr>\n",
       "      <th>2</th>\n",
       "      <td>vyE1P</td>\n",
       "      <td>6.263187</td>\n",
       "      <td>-5.948386</td>\n",
       "      <td>5.001160</td>\n",
       "      <td>134.766305</td>\n",
       "    </tr>\n",
       "    <tr>\n",
       "      <th>3</th>\n",
       "      <td>KcrkZ</td>\n",
       "      <td>-13.081196</td>\n",
       "      <td>-11.506057</td>\n",
       "      <td>4.999415</td>\n",
       "      <td>137.945408</td>\n",
       "    </tr>\n",
       "    <tr>\n",
       "      <th>4</th>\n",
       "      <td>AHL4O</td>\n",
       "      <td>12.702195</td>\n",
       "      <td>-8.147433</td>\n",
       "      <td>5.004363</td>\n",
       "      <td>134.766305</td>\n",
       "    </tr>\n",
       "  </tbody>\n",
       "</table>\n",
       "</div>"
      ],
      "text/plain": [
       "      id         f0         f1        f2     product\n",
       "0  kBEdx -15.001348  -8.276000 -0.005876    3.179103\n",
       "1  62mP7  14.272088  -3.475083  0.999183   26.953261\n",
       "2  vyE1P   6.263187  -5.948386  5.001160  134.766305\n",
       "3  KcrkZ -13.081196 -11.506057  4.999415  137.945408\n",
       "4  AHL4O  12.702195  -8.147433  5.004363  134.766305"
      ]
     },
     "execution_count": 5,
     "metadata": {},
     "output_type": "execute_result"
    }
   ],
   "source": [
    "geo2.head()"
   ]
  },
  {
   "cell_type": "code",
   "execution_count": 6,
   "metadata": {},
   "outputs": [
    {
     "data": {
      "text/html": [
       "<div>\n",
       "<style scoped>\n",
       "    .dataframe tbody tr th:only-of-type {\n",
       "        vertical-align: middle;\n",
       "    }\n",
       "\n",
       "    .dataframe tbody tr th {\n",
       "        vertical-align: top;\n",
       "    }\n",
       "\n",
       "    .dataframe thead th {\n",
       "        text-align: right;\n",
       "    }\n",
       "</style>\n",
       "<table border=\"1\" class=\"dataframe\">\n",
       "  <thead>\n",
       "    <tr style=\"text-align: right;\">\n",
       "      <th></th>\n",
       "      <th>id</th>\n",
       "      <th>f0</th>\n",
       "      <th>f1</th>\n",
       "      <th>f2</th>\n",
       "      <th>product</th>\n",
       "    </tr>\n",
       "  </thead>\n",
       "  <tbody>\n",
       "    <tr>\n",
       "      <th>0</th>\n",
       "      <td>fwXo0</td>\n",
       "      <td>-1.146987</td>\n",
       "      <td>0.963328</td>\n",
       "      <td>-0.828965</td>\n",
       "      <td>27.758673</td>\n",
       "    </tr>\n",
       "    <tr>\n",
       "      <th>1</th>\n",
       "      <td>WJtFt</td>\n",
       "      <td>0.262778</td>\n",
       "      <td>0.269839</td>\n",
       "      <td>-2.530187</td>\n",
       "      <td>56.069697</td>\n",
       "    </tr>\n",
       "    <tr>\n",
       "      <th>2</th>\n",
       "      <td>ovLUW</td>\n",
       "      <td>0.194587</td>\n",
       "      <td>0.289035</td>\n",
       "      <td>-5.586433</td>\n",
       "      <td>62.871910</td>\n",
       "    </tr>\n",
       "    <tr>\n",
       "      <th>3</th>\n",
       "      <td>q6cA6</td>\n",
       "      <td>2.236060</td>\n",
       "      <td>-0.553760</td>\n",
       "      <td>0.930038</td>\n",
       "      <td>114.572842</td>\n",
       "    </tr>\n",
       "    <tr>\n",
       "      <th>4</th>\n",
       "      <td>WPMUX</td>\n",
       "      <td>-0.515993</td>\n",
       "      <td>1.716266</td>\n",
       "      <td>5.899011</td>\n",
       "      <td>149.600746</td>\n",
       "    </tr>\n",
       "  </tbody>\n",
       "</table>\n",
       "</div>"
      ],
      "text/plain": [
       "      id        f0        f1        f2     product\n",
       "0  fwXo0 -1.146987  0.963328 -0.828965   27.758673\n",
       "1  WJtFt  0.262778  0.269839 -2.530187   56.069697\n",
       "2  ovLUW  0.194587  0.289035 -5.586433   62.871910\n",
       "3  q6cA6  2.236060 -0.553760  0.930038  114.572842\n",
       "4  WPMUX -0.515993  1.716266  5.899011  149.600746"
      ]
     },
     "execution_count": 6,
     "metadata": {},
     "output_type": "execute_result"
    }
   ],
   "source": [
    "geo3.head()"
   ]
  },
  {
   "cell_type": "code",
   "execution_count": 7,
   "metadata": {},
   "outputs": [
    {
     "name": "stdout",
     "output_type": "stream",
     "text": [
      "<class 'pandas.core.frame.DataFrame'>\n",
      "RangeIndex: 100000 entries, 0 to 99999\n",
      "Data columns (total 5 columns):\n",
      " #   Column   Non-Null Count   Dtype  \n",
      "---  ------   --------------   -----  \n",
      " 0   id       100000 non-null  object \n",
      " 1   f0       100000 non-null  float64\n",
      " 2   f1       100000 non-null  float64\n",
      " 3   f2       100000 non-null  float64\n",
      " 4   product  100000 non-null  float64\n",
      "dtypes: float64(4), object(1)\n",
      "memory usage: 3.8+ MB\n"
     ]
    }
   ],
   "source": [
    "geo1.info()"
   ]
  },
  {
   "cell_type": "code",
   "execution_count": 8,
   "metadata": {},
   "outputs": [
    {
     "name": "stdout",
     "output_type": "stream",
     "text": [
      "<class 'pandas.core.frame.DataFrame'>\n",
      "RangeIndex: 100000 entries, 0 to 99999\n",
      "Data columns (total 5 columns):\n",
      " #   Column   Non-Null Count   Dtype  \n",
      "---  ------   --------------   -----  \n",
      " 0   id       100000 non-null  object \n",
      " 1   f0       100000 non-null  float64\n",
      " 2   f1       100000 non-null  float64\n",
      " 3   f2       100000 non-null  float64\n",
      " 4   product  100000 non-null  float64\n",
      "dtypes: float64(4), object(1)\n",
      "memory usage: 3.8+ MB\n"
     ]
    }
   ],
   "source": [
    "geo2.info()"
   ]
  },
  {
   "cell_type": "code",
   "execution_count": 9,
   "metadata": {
    "scrolled": false
   },
   "outputs": [
    {
     "name": "stdout",
     "output_type": "stream",
     "text": [
      "<class 'pandas.core.frame.DataFrame'>\n",
      "RangeIndex: 100000 entries, 0 to 99999\n",
      "Data columns (total 5 columns):\n",
      " #   Column   Non-Null Count   Dtype  \n",
      "---  ------   --------------   -----  \n",
      " 0   id       100000 non-null  object \n",
      " 1   f0       100000 non-null  float64\n",
      " 2   f1       100000 non-null  float64\n",
      " 3   f2       100000 non-null  float64\n",
      " 4   product  100000 non-null  float64\n",
      "dtypes: float64(4), object(1)\n",
      "memory usage: 3.8+ MB\n"
     ]
    }
   ],
   "source": [
    "geo3.info()"
   ]
  },
  {
   "cell_type": "markdown",
   "metadata": {},
   "source": [
    "<div class=\"alert alert-success\">\n",
    "<b>Reviewer's comment</b>\n",
    "\n",
    "The data was loaded and inspected\n",
    "\n",
    "</div>"
   ]
  },
  {
   "cell_type": "markdown",
   "metadata": {},
   "source": [
    "### Preparing Data for Model Training and Validation"
   ]
  },
  {
   "cell_type": "code",
   "execution_count": 10,
   "metadata": {},
   "outputs": [],
   "source": [
    "def prepare_data(data):\n",
    "    data = data.dropna()\n",
    "    features = data.drop(columns=['id','product'])\n",
    "    target = data['product']\n",
    "    return features,target"
   ]
  },
  {
   "cell_type": "markdown",
   "metadata": {},
   "source": [
    "The `prepare_data()` function loads the dataset, checks for null values, and separates the features (f0, f1, f2) from the target (product)"
   ]
  },
  {
   "cell_type": "markdown",
   "metadata": {},
   "source": [
    "<div class=\"alert alert-success\">\n",
    "<b>Reviewer's comment</b>\n",
    "\n",
    "Good!\n",
    "\n",
    "</div>"
   ]
  },
  {
   "cell_type": "markdown",
   "metadata": {},
   "source": [
    "## Train and Test the Model for each Region"
   ]
  },
  {
   "cell_type": "markdown",
   "metadata": {},
   "source": [
    "### Model Training and Evaluation"
   ]
  },
  {
   "cell_type": "code",
   "execution_count": 11,
   "metadata": {},
   "outputs": [],
   "source": [
    "def train_test_model(features,target):\n",
    "    features_train, features_valid, target_train, target_valid = \\\n",
    "    train_test_split(features, target, test_size=0.25, random_state=42)\n",
    "    model = LinearRegression()\n",
    "    model.fit(features_train, target_train)\n",
    "    predictions = model.predict(features_valid)\n",
    "    rmse = mean_squared_error(target_valid, predictions, squared=False)\n",
    "    print(f\"Average predicted reserves: {predictions.mean():.2f} thousand barrels\")\n",
    "    print(f\"Model RMSE: {rmse:.2f} thousand barrels\")\n",
    "    \n",
    "    return predictions, target_valid, rmse, model"
   ]
  },
  {
   "cell_type": "markdown",
   "metadata": {},
   "source": [
    "The `train_test_model()` function will partition the data into training and validation sets in a 75:25 ratio. Additionally, it will construct a linear regression model, train it, generate predictions, and compute the root mean square error (RMSE). The function will output the average predicted reserves and the model's RMSE."
   ]
  },
  {
   "cell_type": "markdown",
   "metadata": {},
   "source": [
    "<div class=\"alert alert-success\">\n",
    "<b>Reviewer's comment</b>\n",
    "\n",
    "The code for model training and evaluation is correct\n",
    "\n",
    "</div>"
   ]
  },
  {
   "cell_type": "markdown",
   "metadata": {},
   "source": [
    "## Prepare for Profit Calculations"
   ]
  },
  {
   "cell_type": "markdown",
   "metadata": {},
   "source": [
    "### Storing Key Values for Calculations"
   ]
  },
  {
   "cell_type": "code",
   "execution_count": 12,
   "metadata": {},
   "outputs": [],
   "source": [
    "# Constants\n",
    "BUDGET = 100e6\n",
    "WELL_COST = BUDGET / 200\n",
    "REVENUE_PER_BARREL = 4.5e3\n",
    "N_WELLS = 200\n",
    "N_POINTS = 500"
   ]
  },
  {
   "cell_type": "markdown",
   "metadata": {},
   "source": [
    "### Profit Calculation Preparation"
   ]
  },
  {
   "cell_type": "code",
   "execution_count": 13,
   "metadata": {},
   "outputs": [],
   "source": [
    "def calculate_profit(predictions, target):\n",
    "    selected_wells = predictions.sort_values(ascending=False).head(N_WELLS)\n",
    "    total_volume = target.loc[selected_wells.index].sum()\n",
    "    revenue = total_volume * REVENUE_PER_BARREL\n",
    "    profit = revenue - BUDGET\n",
    "    #print(f\" Profit for {N_WELLS} wells with highest predictions: ${profit:.2f} million\")\n",
    "    \n",
    "    return profit"
   ]
  },
  {
   "cell_type": "markdown",
   "metadata": {},
   "source": [
    "The `calculate_profit()` function computes the minimum reserves required to prevent losses and compares them with the average reserve in each region."
   ]
  },
  {
   "cell_type": "markdown",
   "metadata": {},
   "source": [
    "<div class=\"alert alert-success\">\n",
    "<b>Reviewer's comment</b>\n",
    "\n",
    "Profit is calculated correctly!\n",
    "\n",
    "</div>"
   ]
  },
  {
   "cell_type": "markdown",
   "metadata": {},
   "source": [
    "### Profit Calculation Function"
   ]
  },
  {
   "cell_type": "code",
   "execution_count": 14,
   "metadata": {},
   "outputs": [],
   "source": [
    "def bootstrap_profit(target,predictions, n_samples=1000):\n",
    "    profits = []\n",
    "    for _ in range(n_samples):\n",
    "        sample = predictions.sample(N_POINTS, \n",
    "                                    replace=True, \n",
    "                                    random_state=np.random.randint(1e6))\n",
    "        profit = calculate_profit(sample, target)\n",
    "        profits.append(profit)\n",
    "        \n",
    "    return profits"
   ]
  },
  {
   "cell_type": "markdown",
   "metadata": {},
   "source": [
    "<div class=\"alert alert-success\">\n",
    "<b>Reviewer's comment</b>\n",
    "\n",
    "Bootstrapping is done correctly\n",
    "\n",
    "</div>"
   ]
  },
  {
   "cell_type": "markdown",
   "metadata": {},
   "source": [
    "## Calculate Profit for a Set of Wells"
   ]
  },
  {
   "cell_type": "markdown",
   "metadata": {},
   "source": [
    "In the following code, we will identify and select the wells with the highest predicted reserves. For these selected wells, we will calculate the profit based on their predicted values. This process includes evaluating the predicted reserves, estimating potential revenue, and accounting for costs to determine overall profitability.\n",
    "\n",
    "Additionally, we will employ bootstrapping to estimate the profit distribution. Through this method, we will calculate the average profit, determine the 95% confidence interval, and assess the risk of losses. Based on these criteria, we will select the optimal region by considering both the risk and profit potential."
   ]
  },
  {
   "cell_type": "code",
   "execution_count": 15,
   "metadata": {
    "scrolled": false
   },
   "outputs": [
    {
     "name": "stdout",
     "output_type": "stream",
     "text": [
      "Average predicted reserves: 92.40 thousand barrels\n",
      "Model RMSE: 37.76 thousand barrels\n",
      "Region 0:\n",
      " RMSE: 37.76\n",
      " Mean predicted reserve: 92.40\n",
      " AVG reserve: 92.50\n",
      " Mean predicted reserves: 92.40\n",
      " Is avg sufficient: False\n",
      " AVG profit: 3942540.83\n",
      " 95% confidence interval: (-1413671.87, 8949918.43)\n",
      " Risk of loss: 6.30%\n",
      " Region 0 might be too risky for development.\n",
      "---------------\n",
      "Average predicted reserves: 68.71 thousand barrels\n",
      "Model RMSE: 0.89 thousand barrels\n",
      "Region 1:\n",
      " RMSE: 0.89\n",
      " Mean predicted reserve: 68.71\n",
      " AVG reserve: 68.83\n",
      " Mean predicted reserves: 68.71\n",
      " Is avg sufficient: False\n",
      " AVG profit: 4321703.84\n",
      " 95% confidence interval: (586988.88, 8444864.85)\n",
      " Risk of loss: 1.20%\n",
      " Recommend developing wells in region 1\n"
     ]
    },
    {
     "data": {
      "image/png": "[encoded data removed]",
      "text/plain": [
       "<Figure size 640x480 with 1 Axes>"
      ]
     },
     "metadata": {},
     "output_type": "display_data"
    },
    {
     "name": "stdout",
     "output_type": "stream",
     "text": [
      "---------------\n",
      "Average predicted reserves: 94.77 thousand barrels\n",
      "Model RMSE: 40.15 thousand barrels\n",
      "Region 2:\n",
      " RMSE: 40.15\n",
      " Mean predicted reserve: 94.77\n",
      " AVG reserve: 95.00\n",
      " Mean predicted reserves: 94.77\n",
      " Is avg sufficient: False\n",
      " AVG profit: 3809224.24\n",
      " 95% confidence interval: (-1853259.62, 8718194.67)\n",
      " Risk of loss: 9.00%\n",
      " Region 2 might be too risky for development.\n",
      "---------------\n"
     ]
    }
   ],
   "source": [
    "for i, data in enumerate(datasets):\n",
    "    features, target = prepare_data(data)\n",
    "    predictions, target_valid, rmse, model = train_test_model(features, target)\n",
    "    print(f\"Region {i}:\")\n",
    "    print(f\" RMSE: {rmse:.2f}\")\n",
    "    print(f\" Mean predicted reserve: {predictions.mean():.2f}\")\n",
    "    \n",
    "    avg_reserve = target.mean()\n",
    "    min_reserve_needed = WELL_COST / REVENUE_PER_BARREL\n",
    "    print(f\" AVG reserve: {avg_reserve:.2f}\")\n",
    "    print(f' Mean predicted reserves: {predictions.mean():.2f}')\n",
    "    print(f' Is avg sufficient: {avg_reserve > min_reserve_needed}')\n",
    "    #print()\n",
    "    \n",
    "    profits = bootstrap_profit(target_valid, pd.Series(predictions, index=target_valid.index))\n",
    "    profit = np.array(profits)\n",
    "    lower_bound = np.percentile(profits, 2.5)\n",
    "    upper_bound = np.percentile(profits, 97.5)\n",
    "    avg_profit = profit.mean()\n",
    "    loss_risk = (profit < 0).mean()\n",
    "    \n",
    "    print(f' AVG profit: {avg_profit:.2f}')\n",
    "    print(f' 95% confidence interval: ({lower_bound:.2f}, {upper_bound:.2f})')\n",
    "    print(f' Risk of loss: {loss_risk * 100:.2f}%')\n",
    "    #print(f\" Profit for {i} wells with highest predictions: ${profit:.2f} million\")\n",
    "    \n",
    "    \n",
    "    if loss_risk < 0.025:\n",
    "        #print(f\" Recommend developing wells in region {data['id'].iloc[0]}\")\n",
    "        print(f\" Recommend developing wells in region {i}\")\n",
    "        plt.hist(profits,\n",
    "                bins=50,\n",
    "                alpha=0.5,\n",
    "                label=f'Region {i}')\n",
    "        plt.axvline(avg_profit,\n",
    "                   color='k',\n",
    "                   linestyle='dashed',\n",
    "                   linewidth=1)\n",
    "        plt.xlabel('Profit')\n",
    "        plt.ylabel('Frequency')\n",
    "        plt.legend()\n",
    "        plt.title('Profit Distribution for each Region')\n",
    "        plt.show()\n",
    "        print('---------------')\n",
    "    \n",
    "    else:\n",
    "        #print(f\" Region {data['id'].iloc[0]} might be too risky for development.\")\n",
    "        print(f\" Region {i} might be too risky for development.\")\n",
    "        print('---------------')"
   ]
  },
  {
   "cell_type": "markdown",
   "metadata": {},
   "source": [
    "<div class=\"alert alert-success\">\n",
    "<b>Reviewer's comment</b>\n",
    "\n",
    "Great, you successfully trained and evaluated the models and estimated profit distribution in all three regions\n",
    "\n",
    "</div>"
   ]
  },
  {
   "cell_type": "markdown",
   "metadata": {},
   "source": [
    "## Conclusion and Recommendations"
   ]
  },
  {
   "cell_type": "markdown",
   "metadata": {},
   "source": [
    "After a thorough analysis of the potential regions for oil well development, we have determined that Region 1 is the most promising area. Below, we present our detailed findings and recommendations:\n",
    "Findings for Region 1:\n",
    "- Average Predicted Reserves: 68.71 thousand barrels\n",
    "- Model RMSE: 0.89 thousand barrels\n",
    "- Average Actual Reserves: 68.83 thousand barrels\n",
    "- Sufficiency of Average Reserves: The average reserve is not sufficient for no-loss development based on our cost calculations.\n",
    "- Average Profit: 4,321,703.84\n",
    "- 95% Confidence Interval for Profit: 586,988.88 to 8,444,864.85\n",
    "- Risk of Loss: 1.20%\n",
    "\n",
    "Analysis:\n",
    "\n",
    "1. Predicted and Actual Reserves:\n",
    "        - The model's Root Mean Squared Error (RMSE) is 0.89 thousand barrels, indicating high prediction accuracy.\n",
    "        - The predicted reserves are closely aligned with the actual reserves, with an average predicted value of 68.71 thousand barrels.\n",
    "\n",
    "2. Profitability:\n",
    "        - The average profit for Region 1 is estimated to be 4,321,703.84.\n",
    "        - The 95% confidence interval ranges from 586,988.88 to 8,444,864.85, suggesting a strong potential for significant profit despite some variability.\n",
    "\n",
    "3. Risk Assessment:\n",
    "        - The risk of loss in Region 1 is relatively low at 1.20%, well below our threshold of 2.5%. This indicates a favorable risk profile for investment.\n",
    "\n",
    "Recommendations:\n",
    "\n",
    "Based on the findings, we strongly recommend proceeding with the development of oil wells in Region 1. The combination of high predicted reserves, substantial average profit, and low risk of loss makes Region 1 the optimal choice for new well development.\n",
    "\n",
    "Other Regions:\n",
    "\n",
    "Region 0 and Region 2:\n",
    "        - These regions have been found to be too risky for development. The risk of loss in these areas exceeds our acceptable threshold, and the potential profits do not justify the higher risk.\n",
    "\n",
    "In conclusion, Region 1 offers the best balance of profitability and risk, making it the most viable option for new oil well development. We advise against investing in Region 0 and Region 2 due to their unfavorable risk profiles."
   ]
  },
  {
   "cell_type": "markdown",
   "metadata": {},
   "source": [
    "<div class=\"alert alert-success\">\n",
    "<b>Reviewer's comment</b>\n",
    "\n",
    "Region choice is correct and justified. Well done!\n",
    "\n",
    "</div>"
   ]
  },
  {
   "cell_type": "code",
   "execution_count": null,
   "metadata": {},
   "outputs": [],
   "source": []
  }
 ],
 "metadata": {
  "ExecuteTimeLog": [
   {
    "duration": 449,
    "start_time": "2024-06-03T16:47:20.190Z"
   },
   {
    "duration": 1103,
    "start_time": "2024-06-03T16:48:29.422Z"
   },
   {
    "duration": 131,
    "start_time": "2024-06-03T16:48:47.785Z"
   },
   {
    "duration": 188,
    "start_time": "2024-06-03T16:50:38.871Z"
   },
   {
    "duration": 4,
    "start_time": "2024-06-03T16:50:41.213Z"
   },
   {
    "duration": 155,
    "start_time": "2024-06-03T16:50:41.773Z"
   },
   {
    "duration": 134,
    "start_time": "2024-06-03T16:51:00.692Z"
   },
   {
    "duration": 21,
    "start_time": "2024-06-03T16:51:07.381Z"
   },
   {
    "duration": 439,
    "start_time": "2024-06-03T16:52:14.821Z"
   },
   {
    "duration": 14,
    "start_time": "2024-06-03T16:52:22.414Z"
   },
   {
    "duration": 13,
    "start_time": "2024-06-03T16:52:30.762Z"
   },
   {
    "duration": 12,
    "start_time": "2024-06-03T16:52:31.950Z"
   },
   {
    "duration": 14,
    "start_time": "2024-06-03T16:52:41.605Z"
   },
   {
    "duration": 349,
    "start_time": "2024-06-03T17:04:07.423Z"
   },
   {
    "duration": 26,
    "start_time": "2024-06-03T17:04:12.416Z"
   },
   {
    "duration": 470,
    "start_time": "2024-06-03T17:04:18.841Z"
   },
   {
    "duration": 422,
    "start_time": "2024-06-03T17:04:19.315Z"
   },
   {
    "duration": 20,
    "start_time": "2024-06-03T17:04:19.740Z"
   },
   {
    "duration": 17,
    "start_time": "2024-06-03T17:04:19.764Z"
   },
   {
    "duration": 14,
    "start_time": "2024-06-03T17:04:19.786Z"
   },
   {
    "duration": 34,
    "start_time": "2024-06-03T17:04:19.806Z"
   },
   {
    "duration": 46,
    "start_time": "2024-06-03T17:04:49.587Z"
   },
   {
    "duration": 7,
    "start_time": "2024-06-03T17:04:56.482Z"
   },
   {
    "duration": 20,
    "start_time": "2024-06-03T17:04:59.465Z"
   },
   {
    "duration": 20,
    "start_time": "2024-06-03T17:05:13.716Z"
   },
   {
    "duration": 21,
    "start_time": "2024-06-03T17:05:20.007Z"
   },
   {
    "duration": 5,
    "start_time": "2024-06-03T17:16:28.805Z"
   },
   {
    "duration": 11,
    "start_time": "2024-06-03T18:37:22.306Z"
   },
   {
    "duration": 5223,
    "start_time": "2024-06-03T18:40:36.179Z"
   },
   {
    "duration": 472,
    "start_time": "2024-06-03T18:40:41.408Z"
   },
   {
    "duration": 25,
    "start_time": "2024-06-03T18:40:41.884Z"
   },
   {
    "duration": 12,
    "start_time": "2024-06-03T18:40:41.914Z"
   },
   {
    "duration": 12,
    "start_time": "2024-06-03T18:40:41.930Z"
   },
   {
    "duration": 20,
    "start_time": "2024-06-03T18:40:41.946Z"
   },
   {
    "duration": 20,
    "start_time": "2024-06-03T18:40:42.005Z"
   },
   {
    "duration": 17,
    "start_time": "2024-06-03T18:40:46.260Z"
   },
   {
    "duration": 4,
    "start_time": "2024-06-03T18:40:46.910Z"
   },
   {
    "duration": 4,
    "start_time": "2024-06-03T18:40:48.992Z"
   },
   {
    "duration": 373,
    "start_time": "2024-06-03T18:49:23.272Z"
   },
   {
    "duration": 1406,
    "start_time": "2024-06-03T18:49:44.488Z"
   },
   {
    "duration": 4,
    "start_time": "2024-06-03T18:49:45.898Z"
   },
   {
    "duration": 373,
    "start_time": "2024-06-03T18:49:45.906Z"
   },
   {
    "duration": 33,
    "start_time": "2024-06-03T18:49:46.284Z"
   },
   {
    "duration": 15,
    "start_time": "2024-06-03T18:49:46.320Z"
   },
   {
    "duration": 13,
    "start_time": "2024-06-03T18:49:46.338Z"
   },
   {
    "duration": 13,
    "start_time": "2024-06-03T18:49:46.354Z"
   },
   {
    "duration": 21,
    "start_time": "2024-06-03T18:49:46.405Z"
   },
   {
    "duration": 19,
    "start_time": "2024-06-03T18:49:46.428Z"
   },
   {
    "duration": 17,
    "start_time": "2024-06-03T18:49:46.451Z"
   },
   {
    "duration": 4,
    "start_time": "2024-06-03T18:49:46.507Z"
   },
   {
    "duration": 5,
    "start_time": "2024-06-03T18:49:46.514Z"
   },
   {
    "duration": 4,
    "start_time": "2024-06-03T19:11:35.604Z"
   },
   {
    "duration": 6,
    "start_time": "2024-06-03T19:18:04.825Z"
   },
   {
    "duration": 6,
    "start_time": "2024-06-03T19:22:50.522Z"
   },
   {
    "duration": 9,
    "start_time": "2024-06-03T19:27:38.117Z"
   },
   {
    "duration": 204,
    "start_time": "2024-06-03T19:29:57.467Z"
   },
   {
    "duration": 1405,
    "start_time": "2024-06-03T19:48:10.118Z"
   },
   {
    "duration": 4,
    "start_time": "2024-06-03T19:48:11.526Z"
   },
   {
    "duration": 389,
    "start_time": "2024-06-03T19:48:11.533Z"
   },
   {
    "duration": 23,
    "start_time": "2024-06-03T19:48:11.927Z"
   },
   {
    "duration": 14,
    "start_time": "2024-06-03T19:48:11.953Z"
   },
   {
    "duration": 44,
    "start_time": "2024-06-03T19:48:11.970Z"
   },
   {
    "duration": 13,
    "start_time": "2024-06-03T19:48:12.017Z"
   },
   {
    "duration": 19,
    "start_time": "2024-06-03T19:48:12.033Z"
   },
   {
    "duration": 54,
    "start_time": "2024-06-03T19:48:12.055Z"
   },
   {
    "duration": 17,
    "start_time": "2024-06-03T19:48:12.115Z"
   },
   {
    "duration": 7,
    "start_time": "2024-06-03T19:48:12.135Z"
   },
   {
    "duration": 6,
    "start_time": "2024-06-03T19:48:12.146Z"
   },
   {
    "duration": 6,
    "start_time": "2024-06-03T19:48:12.155Z"
   },
   {
    "duration": 46,
    "start_time": "2024-06-03T19:48:12.164Z"
   },
   {
    "duration": 563,
    "start_time": "2024-06-03T19:48:12.213Z"
   },
   {
    "duration": 1,
    "start_time": "2024-06-03T19:48:12.779Z"
   },
   {
    "duration": 1402,
    "start_time": "2024-06-03T19:48:49.796Z"
   },
   {
    "duration": 6,
    "start_time": "2024-06-03T19:48:51.201Z"
   },
   {
    "duration": 398,
    "start_time": "2024-06-03T19:48:51.210Z"
   },
   {
    "duration": 24,
    "start_time": "2024-06-03T19:48:51.612Z"
   },
   {
    "duration": 15,
    "start_time": "2024-06-03T19:48:51.639Z"
   },
   {
    "duration": 12,
    "start_time": "2024-06-03T19:48:51.657Z"
   },
   {
    "duration": 46,
    "start_time": "2024-06-03T19:48:51.672Z"
   },
   {
    "duration": 19,
    "start_time": "2024-06-03T19:48:51.722Z"
   },
   {
    "duration": 17,
    "start_time": "2024-06-03T19:48:51.744Z"
   },
   {
    "duration": 17,
    "start_time": "2024-06-03T19:48:51.807Z"
   },
   {
    "duration": 4,
    "start_time": "2024-06-03T19:48:51.828Z"
   },
   {
    "duration": 6,
    "start_time": "2024-06-03T19:48:51.835Z"
   },
   {
    "duration": 5,
    "start_time": "2024-06-03T19:48:51.844Z"
   },
   {
    "duration": 6,
    "start_time": "2024-06-03T19:48:51.852Z"
   },
   {
    "duration": 787,
    "start_time": "2024-06-03T19:48:51.861Z"
   },
   {
    "duration": 0,
    "start_time": "2024-06-03T19:48:52.651Z"
   },
   {
    "duration": 1341,
    "start_time": "2024-06-03T19:51:30.839Z"
   },
   {
    "duration": 4,
    "start_time": "2024-06-03T19:51:32.184Z"
   },
   {
    "duration": 395,
    "start_time": "2024-06-03T19:51:32.190Z"
   },
   {
    "duration": 28,
    "start_time": "2024-06-03T19:51:32.588Z"
   },
   {
    "duration": 13,
    "start_time": "2024-06-03T19:51:32.621Z"
   },
   {
    "duration": 12,
    "start_time": "2024-06-03T19:51:32.638Z"
   },
   {
    "duration": 16,
    "start_time": "2024-06-03T19:51:32.653Z"
   },
   {
    "duration": 19,
    "start_time": "2024-06-03T19:51:32.706Z"
   },
   {
    "duration": 18,
    "start_time": "2024-06-03T19:51:32.728Z"
   },
   {
    "duration": 18,
    "start_time": "2024-06-03T19:51:32.749Z"
   },
   {
    "duration": 5,
    "start_time": "2024-06-03T19:51:32.806Z"
   },
   {
    "duration": 6,
    "start_time": "2024-06-03T19:51:32.813Z"
   },
   {
    "duration": 5,
    "start_time": "2024-06-03T19:51:32.823Z"
   },
   {
    "duration": 4,
    "start_time": "2024-06-03T19:51:32.834Z"
   },
   {
    "duration": 768,
    "start_time": "2024-06-03T19:51:32.842Z"
   },
   {
    "duration": 0,
    "start_time": "2024-06-03T19:51:33.613Z"
   },
   {
    "duration": 1418,
    "start_time": "2024-06-03T19:52:45.469Z"
   },
   {
    "duration": 5,
    "start_time": "2024-06-03T19:52:46.891Z"
   },
   {
    "duration": 384,
    "start_time": "2024-06-03T19:52:46.906Z"
   },
   {
    "duration": 28,
    "start_time": "2024-06-03T19:52:47.294Z"
   },
   {
    "duration": 15,
    "start_time": "2024-06-03T19:52:47.326Z"
   },
   {
    "duration": 12,
    "start_time": "2024-06-03T19:52:47.344Z"
   },
   {
    "duration": 47,
    "start_time": "2024-06-03T19:52:47.359Z"
   },
   {
    "duration": 19,
    "start_time": "2024-06-03T19:52:47.409Z"
   },
   {
    "duration": 17,
    "start_time": "2024-06-03T19:52:47.431Z"
   },
   {
    "duration": 53,
    "start_time": "2024-06-03T19:52:47.454Z"
   },
   {
    "duration": 5,
    "start_time": "2024-06-03T19:52:47.510Z"
   },
   {
    "duration": 6,
    "start_time": "2024-06-03T19:52:47.519Z"
   },
   {
    "duration": 5,
    "start_time": "2024-06-03T19:52:47.529Z"
   },
   {
    "duration": 5,
    "start_time": "2024-06-03T19:52:47.538Z"
   },
   {
    "duration": 844,
    "start_time": "2024-06-03T19:52:47.546Z"
   },
   {
    "duration": 0,
    "start_time": "2024-06-03T19:52:48.393Z"
   },
   {
    "duration": 1335,
    "start_time": "2024-06-03T19:53:14.851Z"
   },
   {
    "duration": 3,
    "start_time": "2024-06-03T19:53:16.190Z"
   },
   {
    "duration": 399,
    "start_time": "2024-06-03T19:53:16.196Z"
   },
   {
    "duration": 27,
    "start_time": "2024-06-03T19:53:16.597Z"
   },
   {
    "duration": 15,
    "start_time": "2024-06-03T19:53:16.628Z"
   },
   {
    "duration": 12,
    "start_time": "2024-06-03T19:53:16.645Z"
   },
   {
    "duration": 46,
    "start_time": "2024-06-03T19:53:16.661Z"
   },
   {
    "duration": 23,
    "start_time": "2024-06-03T19:53:16.710Z"
   },
   {
    "duration": 22,
    "start_time": "2024-06-03T19:53:16.736Z"
   },
   {
    "duration": 56,
    "start_time": "2024-06-03T19:53:16.761Z"
   },
   {
    "duration": 4,
    "start_time": "2024-06-03T19:53:16.821Z"
   },
   {
    "duration": 6,
    "start_time": "2024-06-03T19:53:16.828Z"
   },
   {
    "duration": 5,
    "start_time": "2024-06-03T19:53:16.838Z"
   },
   {
    "duration": 5,
    "start_time": "2024-06-03T19:53:16.848Z"
   },
   {
    "duration": 863,
    "start_time": "2024-06-03T19:53:16.857Z"
   },
   {
    "duration": 0,
    "start_time": "2024-06-03T19:53:17.723Z"
   },
   {
    "duration": 1356,
    "start_time": "2024-06-03T19:55:00.264Z"
   },
   {
    "duration": 4,
    "start_time": "2024-06-03T19:55:01.624Z"
   },
   {
    "duration": 421,
    "start_time": "2024-06-03T19:55:01.637Z"
   },
   {
    "duration": 28,
    "start_time": "2024-06-03T19:55:02.061Z"
   },
   {
    "duration": 14,
    "start_time": "2024-06-03T19:55:02.106Z"
   },
   {
    "duration": 15,
    "start_time": "2024-06-03T19:55:02.123Z"
   },
   {
    "duration": 15,
    "start_time": "2024-06-03T19:55:02.141Z"
   },
   {
    "duration": 64,
    "start_time": "2024-06-03T19:55:02.159Z"
   },
   {
    "duration": 22,
    "start_time": "2024-06-03T19:55:02.229Z"
   },
   {
    "duration": 52,
    "start_time": "2024-06-03T19:55:02.255Z"
   },
   {
    "duration": 5,
    "start_time": "2024-06-03T19:55:02.310Z"
   },
   {
    "duration": 8,
    "start_time": "2024-06-03T19:55:02.318Z"
   },
   {
    "duration": 8,
    "start_time": "2024-06-03T19:55:02.329Z"
   },
   {
    "duration": 6,
    "start_time": "2024-06-03T19:55:02.339Z"
   },
   {
    "duration": 1226,
    "start_time": "2024-06-03T19:55:02.348Z"
   },
   {
    "duration": 0,
    "start_time": "2024-06-03T19:55:03.577Z"
   },
   {
    "duration": 1430,
    "start_time": "2024-06-03T19:59:07.021Z"
   },
   {
    "duration": 4,
    "start_time": "2024-06-03T19:59:08.455Z"
   },
   {
    "duration": 395,
    "start_time": "2024-06-03T19:59:08.463Z"
   },
   {
    "duration": 25,
    "start_time": "2024-06-03T19:59:08.862Z"
   },
   {
    "duration": 28,
    "start_time": "2024-06-03T19:59:08.890Z"
   },
   {
    "duration": 12,
    "start_time": "2024-06-03T19:59:08.923Z"
   },
   {
    "duration": 12,
    "start_time": "2024-06-03T19:59:08.939Z"
   },
   {
    "duration": 59,
    "start_time": "2024-06-03T19:59:08.955Z"
   },
   {
    "duration": 19,
    "start_time": "2024-06-03T19:59:09.018Z"
   },
   {
    "duration": 17,
    "start_time": "2024-06-03T19:59:09.042Z"
   },
   {
    "duration": 4,
    "start_time": "2024-06-03T19:59:09.062Z"
   },
   {
    "duration": 8,
    "start_time": "2024-06-03T19:59:09.107Z"
   },
   {
    "duration": 6,
    "start_time": "2024-06-03T19:59:09.118Z"
   },
   {
    "duration": 6,
    "start_time": "2024-06-03T19:59:09.127Z"
   },
   {
    "duration": 1003,
    "start_time": "2024-06-03T19:59:09.137Z"
   },
   {
    "duration": 0,
    "start_time": "2024-06-03T19:59:10.143Z"
   },
   {
    "duration": 25,
    "start_time": "2024-06-03T20:00:30.281Z"
   },
   {
    "duration": 5,
    "start_time": "2024-06-03T20:00:38.833Z"
   },
   {
    "duration": 23,
    "start_time": "2024-06-03T20:00:39.296Z"
   },
   {
    "duration": 1405,
    "start_time": "2024-06-03T20:02:05.678Z"
   },
   {
    "duration": 4,
    "start_time": "2024-06-03T20:02:07.089Z"
   },
   {
    "duration": 381,
    "start_time": "2024-06-03T20:02:07.097Z"
   },
   {
    "duration": 34,
    "start_time": "2024-06-03T20:02:07.480Z"
   },
   {
    "duration": 14,
    "start_time": "2024-06-03T20:02:07.518Z"
   },
   {
    "duration": 13,
    "start_time": "2024-06-03T20:02:07.535Z"
   },
   {
    "duration": 13,
    "start_time": "2024-06-03T20:02:07.550Z"
   },
   {
    "duration": 54,
    "start_time": "2024-06-03T20:02:07.567Z"
   },
   {
    "duration": 21,
    "start_time": "2024-06-03T20:02:07.625Z"
   },
   {
    "duration": 22,
    "start_time": "2024-06-03T20:02:07.649Z"
   },
   {
    "duration": 5,
    "start_time": "2024-06-03T20:02:07.709Z"
   },
   {
    "duration": 6,
    "start_time": "2024-06-03T20:02:07.717Z"
   },
   {
    "duration": 5,
    "start_time": "2024-06-03T20:02:07.726Z"
   },
   {
    "duration": 6,
    "start_time": "2024-06-03T20:02:07.736Z"
   },
   {
    "duration": 751,
    "start_time": "2024-06-03T20:02:07.745Z"
   },
   {
    "duration": 0,
    "start_time": "2024-06-03T20:02:08.507Z"
   },
   {
    "duration": 1433,
    "start_time": "2024-06-03T20:03:47.193Z"
   },
   {
    "duration": 5,
    "start_time": "2024-06-03T20:03:48.630Z"
   },
   {
    "duration": 393,
    "start_time": "2024-06-03T20:03:48.638Z"
   },
   {
    "duration": 23,
    "start_time": "2024-06-03T20:03:49.036Z"
   },
   {
    "duration": 14,
    "start_time": "2024-06-03T20:03:49.062Z"
   },
   {
    "duration": 37,
    "start_time": "2024-06-03T20:03:49.079Z"
   },
   {
    "duration": 13,
    "start_time": "2024-06-03T20:03:49.120Z"
   },
   {
    "duration": 19,
    "start_time": "2024-06-03T20:03:49.137Z"
   },
   {
    "duration": 54,
    "start_time": "2024-06-03T20:03:49.159Z"
   },
   {
    "duration": 18,
    "start_time": "2024-06-03T20:03:49.218Z"
   },
   {
    "duration": 4,
    "start_time": "2024-06-03T20:03:49.239Z"
   },
   {
    "duration": 6,
    "start_time": "2024-06-03T20:03:49.246Z"
   },
   {
    "duration": 51,
    "start_time": "2024-06-03T20:03:49.255Z"
   },
   {
    "duration": 5,
    "start_time": "2024-06-03T20:03:49.310Z"
   },
   {
    "duration": 828,
    "start_time": "2024-06-03T20:03:49.319Z"
   },
   {
    "duration": 1,
    "start_time": "2024-06-03T20:03:50.150Z"
   },
   {
    "duration": 1346,
    "start_time": "2024-06-03T20:05:24.724Z"
   },
   {
    "duration": 4,
    "start_time": "2024-06-03T20:05:26.073Z"
   },
   {
    "duration": 389,
    "start_time": "2024-06-03T20:05:26.080Z"
   },
   {
    "duration": 33,
    "start_time": "2024-06-03T20:05:26.474Z"
   },
   {
    "duration": 15,
    "start_time": "2024-06-03T20:05:26.510Z"
   },
   {
    "duration": 13,
    "start_time": "2024-06-03T20:05:26.528Z"
   },
   {
    "duration": 13,
    "start_time": "2024-06-03T20:05:26.543Z"
   },
   {
    "duration": 63,
    "start_time": "2024-06-03T20:05:26.559Z"
   },
   {
    "duration": 18,
    "start_time": "2024-06-03T20:05:26.625Z"
   },
   {
    "duration": 18,
    "start_time": "2024-06-03T20:05:26.647Z"
   },
   {
    "duration": 41,
    "start_time": "2024-06-03T20:05:26.668Z"
   },
   {
    "duration": 6,
    "start_time": "2024-06-03T20:05:26.712Z"
   },
   {
    "duration": 6,
    "start_time": "2024-06-03T20:05:26.721Z"
   },
   {
    "duration": 6,
    "start_time": "2024-06-03T20:05:26.729Z"
   },
   {
    "duration": 749,
    "start_time": "2024-06-03T20:05:26.738Z"
   },
   {
    "duration": 0,
    "start_time": "2024-06-03T20:05:27.490Z"
   },
   {
    "duration": 1397,
    "start_time": "2024-06-03T20:06:40.806Z"
   },
   {
    "duration": 4,
    "start_time": "2024-06-03T20:06:42.207Z"
   },
   {
    "duration": 375,
    "start_time": "2024-06-03T20:06:42.214Z"
   },
   {
    "duration": 31,
    "start_time": "2024-06-03T20:06:42.593Z"
   },
   {
    "duration": 16,
    "start_time": "2024-06-03T20:06:42.626Z"
   },
   {
    "duration": 13,
    "start_time": "2024-06-03T20:06:42.644Z"
   },
   {
    "duration": 48,
    "start_time": "2024-06-03T20:06:42.661Z"
   },
   {
    "duration": 20,
    "start_time": "2024-06-03T20:06:42.713Z"
   },
   {
    "duration": 19,
    "start_time": "2024-06-03T20:06:42.736Z"
   },
   {
    "duration": 60,
    "start_time": "2024-06-03T20:06:42.761Z"
   },
   {
    "duration": 5,
    "start_time": "2024-06-03T20:06:42.824Z"
   },
   {
    "duration": 7,
    "start_time": "2024-06-03T20:06:42.833Z"
   },
   {
    "duration": 6,
    "start_time": "2024-06-03T20:06:42.844Z"
   },
   {
    "duration": 7,
    "start_time": "2024-06-03T20:06:42.853Z"
   },
   {
    "duration": 724,
    "start_time": "2024-06-03T20:06:42.863Z"
   },
   {
    "duration": 0,
    "start_time": "2024-06-03T20:06:43.590Z"
   },
   {
    "duration": 1390,
    "start_time": "2024-06-03T20:07:53.822Z"
   },
   {
    "duration": 5,
    "start_time": "2024-06-03T20:07:55.215Z"
   },
   {
    "duration": 377,
    "start_time": "2024-06-03T20:07:55.223Z"
   },
   {
    "duration": 23,
    "start_time": "2024-06-03T20:07:55.603Z"
   },
   {
    "duration": 14,
    "start_time": "2024-06-03T20:07:55.630Z"
   },
   {
    "duration": 13,
    "start_time": "2024-06-03T20:07:55.647Z"
   },
   {
    "duration": 49,
    "start_time": "2024-06-03T20:07:55.663Z"
   },
   {
    "duration": 20,
    "start_time": "2024-06-03T20:07:55.715Z"
   },
   {
    "duration": 17,
    "start_time": "2024-06-03T20:07:55.739Z"
   },
   {
    "duration": 51,
    "start_time": "2024-06-03T20:07:55.759Z"
   },
   {
    "duration": 7,
    "start_time": "2024-06-03T20:07:55.813Z"
   },
   {
    "duration": 7,
    "start_time": "2024-06-03T20:07:55.822Z"
   },
   {
    "duration": 6,
    "start_time": "2024-06-03T20:07:55.832Z"
   },
   {
    "duration": 6,
    "start_time": "2024-06-03T20:07:55.842Z"
   },
   {
    "duration": 1848,
    "start_time": "2024-06-03T20:07:55.851Z"
   },
   {
    "duration": 0,
    "start_time": "2024-06-03T20:07:57.702Z"
   },
   {
    "duration": 1413,
    "start_time": "2024-06-03T20:09:57.887Z"
   },
   {
    "duration": 5,
    "start_time": "2024-06-03T20:09:59.303Z"
   },
   {
    "duration": 387,
    "start_time": "2024-06-03T20:09:59.311Z"
   },
   {
    "duration": 24,
    "start_time": "2024-06-03T20:09:59.706Z"
   },
   {
    "duration": 14,
    "start_time": "2024-06-03T20:09:59.733Z"
   },
   {
    "duration": 13,
    "start_time": "2024-06-03T20:09:59.750Z"
   },
   {
    "duration": 45,
    "start_time": "2024-06-03T20:09:59.766Z"
   },
   {
    "duration": 19,
    "start_time": "2024-06-03T20:09:59.814Z"
   },
   {
    "duration": 17,
    "start_time": "2024-06-03T20:09:59.836Z"
   },
   {
    "duration": 56,
    "start_time": "2024-06-03T20:09:59.859Z"
   },
   {
    "duration": 7,
    "start_time": "2024-06-03T20:09:59.918Z"
   },
   {
    "duration": 8,
    "start_time": "2024-06-03T20:09:59.928Z"
   },
   {
    "duration": 6,
    "start_time": "2024-06-03T20:09:59.940Z"
   },
   {
    "duration": 6,
    "start_time": "2024-06-03T20:09:59.950Z"
   },
   {
    "duration": 1768,
    "start_time": "2024-06-03T20:09:59.959Z"
   },
   {
    "duration": 0,
    "start_time": "2024-06-03T20:10:01.731Z"
   },
   {
    "duration": 1545,
    "start_time": "2024-06-03T20:10:40.456Z"
   },
   {
    "duration": 5,
    "start_time": "2024-06-03T20:10:42.005Z"
   },
   {
    "duration": 392,
    "start_time": "2024-06-03T20:10:42.013Z"
   },
   {
    "duration": 27,
    "start_time": "2024-06-03T20:10:42.408Z"
   },
   {
    "duration": 16,
    "start_time": "2024-06-03T20:10:42.439Z"
   },
   {
    "duration": 13,
    "start_time": "2024-06-03T20:10:42.458Z"
   },
   {
    "duration": 14,
    "start_time": "2024-06-03T20:10:42.506Z"
   },
   {
    "duration": 21,
    "start_time": "2024-06-03T20:10:42.524Z"
   },
   {
    "duration": 22,
    "start_time": "2024-06-03T20:10:42.547Z"
   },
   {
    "duration": 22,
    "start_time": "2024-06-03T20:10:42.608Z"
   },
   {
    "duration": 8,
    "start_time": "2024-06-03T20:10:42.633Z"
   },
   {
    "duration": 6,
    "start_time": "2024-06-03T20:10:42.646Z"
   },
   {
    "duration": 5,
    "start_time": "2024-06-03T20:10:42.655Z"
   },
   {
    "duration": 5,
    "start_time": "2024-06-03T20:10:42.665Z"
   },
   {
    "duration": 1739,
    "start_time": "2024-06-03T20:10:42.707Z"
   },
   {
    "duration": 0,
    "start_time": "2024-06-03T20:10:44.449Z"
   },
   {
    "duration": 1419,
    "start_time": "2024-06-03T20:11:30.093Z"
   },
   {
    "duration": 4,
    "start_time": "2024-06-03T20:11:31.516Z"
   },
   {
    "duration": 389,
    "start_time": "2024-06-03T20:11:31.523Z"
   },
   {
    "duration": 24,
    "start_time": "2024-06-03T20:11:31.915Z"
   },
   {
    "duration": 14,
    "start_time": "2024-06-03T20:11:31.944Z"
   },
   {
    "duration": 12,
    "start_time": "2024-06-03T20:11:31.961Z"
   },
   {
    "duration": 12,
    "start_time": "2024-06-03T20:11:32.007Z"
   },
   {
    "duration": 19,
    "start_time": "2024-06-03T20:11:32.023Z"
   },
   {
    "duration": 18,
    "start_time": "2024-06-03T20:11:32.045Z"
   },
   {
    "duration": 19,
    "start_time": "2024-06-03T20:11:32.105Z"
   },
   {
    "duration": 4,
    "start_time": "2024-06-03T20:11:32.127Z"
   },
   {
    "duration": 6,
    "start_time": "2024-06-03T20:11:32.134Z"
   },
   {
    "duration": 4,
    "start_time": "2024-06-03T20:11:32.144Z"
   },
   {
    "duration": 5,
    "start_time": "2024-06-03T20:11:32.154Z"
   },
   {
    "duration": 3958,
    "start_time": "2024-06-03T20:11:32.205Z"
   },
   {
    "duration": 203,
    "start_time": "2024-06-03T20:11:36.166Z"
   },
   {
    "duration": 5073,
    "start_time": "2024-06-03T21:23:56.266Z"
   },
   {
    "duration": 5,
    "start_time": "2024-06-03T21:24:01.342Z"
   },
   {
    "duration": 516,
    "start_time": "2024-06-03T21:24:01.350Z"
   },
   {
    "duration": 25,
    "start_time": "2024-06-03T21:24:01.871Z"
   },
   {
    "duration": 17,
    "start_time": "2024-06-03T21:24:01.907Z"
   },
   {
    "duration": 13,
    "start_time": "2024-06-03T21:24:01.927Z"
   },
   {
    "duration": 14,
    "start_time": "2024-06-03T21:24:01.944Z"
   },
   {
    "duration": 61,
    "start_time": "2024-06-03T21:24:01.962Z"
   },
   {
    "duration": 18,
    "start_time": "2024-06-03T21:24:02.026Z"
   },
   {
    "duration": 17,
    "start_time": "2024-06-03T21:24:02.050Z"
   },
   {
    "duration": 5,
    "start_time": "2024-06-03T21:24:02.107Z"
   },
   {
    "duration": 9,
    "start_time": "2024-06-03T21:24:02.115Z"
   },
   {
    "duration": 4,
    "start_time": "2024-06-03T21:24:02.128Z"
   },
   {
    "duration": 7,
    "start_time": "2024-06-03T21:24:02.135Z"
   },
   {
    "duration": 4298,
    "start_time": "2024-06-03T21:24:02.145Z"
   },
   {
    "duration": 199,
    "start_time": "2024-06-03T21:24:06.446Z"
   },
   {
    "duration": 1438,
    "start_time": "2024-06-03T21:26:22.216Z"
   },
   {
    "duration": 4,
    "start_time": "2024-06-03T21:26:23.657Z"
   },
   {
    "duration": 400,
    "start_time": "2024-06-03T21:26:23.665Z"
   },
   {
    "duration": 26,
    "start_time": "2024-06-03T21:26:24.068Z"
   },
   {
    "duration": 15,
    "start_time": "2024-06-03T21:26:24.106Z"
   },
   {
    "duration": 16,
    "start_time": "2024-06-03T21:26:24.123Z"
   },
   {
    "duration": 18,
    "start_time": "2024-06-03T21:26:24.154Z"
   },
   {
    "duration": 47,
    "start_time": "2024-06-03T21:26:24.175Z"
   },
   {
    "duration": 22,
    "start_time": "2024-06-03T21:26:24.225Z"
   },
   {
    "duration": 23,
    "start_time": "2024-06-03T21:26:24.253Z"
   },
   {
    "duration": 25,
    "start_time": "2024-06-03T21:26:24.282Z"
   },
   {
    "duration": 8,
    "start_time": "2024-06-03T21:26:24.312Z"
   },
   {
    "duration": 6,
    "start_time": "2024-06-03T21:26:24.323Z"
   },
   {
    "duration": 6,
    "start_time": "2024-06-03T21:26:24.337Z"
   },
   {
    "duration": 2006,
    "start_time": "2024-06-03T21:26:24.346Z"
   },
   {
    "duration": 0,
    "start_time": "2024-06-03T21:26:26.355Z"
   },
   {
    "duration": 1392,
    "start_time": "2024-06-03T21:26:51.221Z"
   },
   {
    "duration": 5,
    "start_time": "2024-06-03T21:26:52.617Z"
   },
   {
    "duration": 375,
    "start_time": "2024-06-03T21:26:52.627Z"
   },
   {
    "duration": 24,
    "start_time": "2024-06-03T21:26:53.008Z"
   },
   {
    "duration": 14,
    "start_time": "2024-06-03T21:26:53.035Z"
   },
   {
    "duration": 12,
    "start_time": "2024-06-03T21:26:53.052Z"
   },
   {
    "duration": 52,
    "start_time": "2024-06-03T21:26:53.068Z"
   },
   {
    "duration": 20,
    "start_time": "2024-06-03T21:26:53.125Z"
   },
   {
    "duration": 19,
    "start_time": "2024-06-03T21:26:53.148Z"
   },
   {
    "duration": 51,
    "start_time": "2024-06-03T21:26:53.173Z"
   },
   {
    "duration": 6,
    "start_time": "2024-06-03T21:26:53.229Z"
   },
   {
    "duration": 8,
    "start_time": "2024-06-03T21:26:53.238Z"
   },
   {
    "duration": 6,
    "start_time": "2024-06-03T21:26:53.250Z"
   },
   {
    "duration": 7,
    "start_time": "2024-06-03T21:26:53.259Z"
   },
   {
    "duration": 4045,
    "start_time": "2024-06-03T21:26:53.308Z"
   },
   {
    "duration": 202,
    "start_time": "2024-06-03T21:26:57.358Z"
   },
   {
    "duration": 1395,
    "start_time": "2024-06-03T21:29:31.593Z"
   },
   {
    "duration": 5,
    "start_time": "2024-06-03T21:29:32.992Z"
   },
   {
    "duration": 370,
    "start_time": "2024-06-03T21:29:33.007Z"
   },
   {
    "duration": 31,
    "start_time": "2024-06-03T21:29:33.380Z"
   },
   {
    "duration": 14,
    "start_time": "2024-06-03T21:29:33.416Z"
   },
   {
    "duration": 12,
    "start_time": "2024-06-03T21:29:33.433Z"
   },
   {
    "duration": 13,
    "start_time": "2024-06-03T21:29:33.448Z"
   },
   {
    "duration": 57,
    "start_time": "2024-06-03T21:29:33.464Z"
   },
   {
    "duration": 17,
    "start_time": "2024-06-03T21:29:33.524Z"
   },
   {
    "duration": 17,
    "start_time": "2024-06-03T21:29:33.544Z"
   },
   {
    "duration": 4,
    "start_time": "2024-06-03T21:29:33.564Z"
   },
   {
    "duration": 10,
    "start_time": "2024-06-03T21:29:33.605Z"
   },
   {
    "duration": 5,
    "start_time": "2024-06-03T21:29:33.618Z"
   },
   {
    "duration": 5,
    "start_time": "2024-06-03T21:29:33.628Z"
   },
   {
    "duration": 4076,
    "start_time": "2024-06-03T21:29:33.636Z"
   },
   {
    "duration": 205,
    "start_time": "2024-06-03T21:29:37.716Z"
   },
   {
    "duration": 5006,
    "start_time": "2024-06-03T22:59:37.107Z"
   },
   {
    "duration": 15,
    "start_time": "2024-06-03T22:59:42.117Z"
   },
   {
    "duration": 493,
    "start_time": "2024-06-03T22:59:42.135Z"
   },
   {
    "duration": 23,
    "start_time": "2024-06-03T22:59:42.632Z"
   },
   {
    "duration": 14,
    "start_time": "2024-06-03T22:59:42.658Z"
   },
   {
    "duration": 14,
    "start_time": "2024-06-03T22:59:42.675Z"
   },
   {
    "duration": 49,
    "start_time": "2024-06-03T22:59:42.692Z"
   },
   {
    "duration": 22,
    "start_time": "2024-06-03T22:59:42.744Z"
   },
   {
    "duration": 18,
    "start_time": "2024-06-03T22:59:42.769Z"
   },
   {
    "duration": 55,
    "start_time": "2024-06-03T22:59:42.792Z"
   },
   {
    "duration": 5,
    "start_time": "2024-06-03T22:59:42.849Z"
   },
   {
    "duration": 6,
    "start_time": "2024-06-03T22:59:42.858Z"
   },
   {
    "duration": 5,
    "start_time": "2024-06-03T22:59:42.867Z"
   },
   {
    "duration": 6,
    "start_time": "2024-06-03T22:59:42.875Z"
   },
   {
    "duration": 53,
    "start_time": "2024-06-03T22:59:42.883Z"
   },
   {
    "duration": 0,
    "start_time": "2024-06-03T22:59:42.939Z"
   },
   {
    "duration": 1406,
    "start_time": "2024-06-03T22:59:56.807Z"
   },
   {
    "duration": 4,
    "start_time": "2024-06-03T22:59:58.217Z"
   },
   {
    "duration": 378,
    "start_time": "2024-06-03T22:59:58.233Z"
   },
   {
    "duration": 28,
    "start_time": "2024-06-03T22:59:58.616Z"
   },
   {
    "duration": 14,
    "start_time": "2024-06-03T22:59:58.647Z"
   },
   {
    "duration": 11,
    "start_time": "2024-06-03T22:59:58.664Z"
   },
   {
    "duration": 12,
    "start_time": "2024-06-03T22:59:58.678Z"
   },
   {
    "duration": 18,
    "start_time": "2024-06-03T22:59:58.734Z"
   },
   {
    "duration": 19,
    "start_time": "2024-06-03T22:59:58.755Z"
   },
   {
    "duration": 18,
    "start_time": "2024-06-03T22:59:58.778Z"
   },
   {
    "duration": 5,
    "start_time": "2024-06-03T22:59:58.834Z"
   },
   {
    "duration": 7,
    "start_time": "2024-06-03T22:59:58.841Z"
   },
   {
    "duration": 5,
    "start_time": "2024-06-03T22:59:58.851Z"
   },
   {
    "duration": 5,
    "start_time": "2024-06-03T22:59:58.859Z"
   },
   {
    "duration": 4225,
    "start_time": "2024-06-03T22:59:58.867Z"
   },
   {
    "duration": 207,
    "start_time": "2024-06-03T23:00:03.095Z"
   },
   {
    "duration": 1346,
    "start_time": "2024-06-03T23:01:01.478Z"
   },
   {
    "duration": 4,
    "start_time": "2024-06-03T23:01:02.833Z"
   },
   {
    "duration": 371,
    "start_time": "2024-06-03T23:01:02.841Z"
   },
   {
    "duration": 27,
    "start_time": "2024-06-03T23:01:03.217Z"
   },
   {
    "duration": 13,
    "start_time": "2024-06-03T23:01:03.247Z"
   },
   {
    "duration": 12,
    "start_time": "2024-06-03T23:01:03.264Z"
   },
   {
    "duration": 13,
    "start_time": "2024-06-03T23:01:03.279Z"
   },
   {
    "duration": 20,
    "start_time": "2024-06-03T23:01:03.334Z"
   },
   {
    "duration": 18,
    "start_time": "2024-06-03T23:01:03.359Z"
   },
   {
    "duration": 52,
    "start_time": "2024-06-03T23:01:03.383Z"
   },
   {
    "duration": 5,
    "start_time": "2024-06-03T23:01:03.438Z"
   },
   {
    "duration": 5,
    "start_time": "2024-06-03T23:01:03.446Z"
   },
   {
    "duration": 4,
    "start_time": "2024-06-03T23:01:03.456Z"
   },
   {
    "duration": 5,
    "start_time": "2024-06-03T23:01:03.464Z"
   },
   {
    "duration": 4230,
    "start_time": "2024-06-03T23:01:03.473Z"
   },
   {
    "duration": 198,
    "start_time": "2024-06-03T23:01:07.706Z"
   },
   {
    "duration": 18,
    "start_time": "2024-06-03T23:01:58.542Z"
   },
   {
    "duration": 18,
    "start_time": "2024-06-03T23:02:05.868Z"
   },
   {
    "duration": 3,
    "start_time": "2024-06-03T23:19:32.689Z"
   },
   {
    "duration": 4,
    "start_time": "2024-06-03T23:23:40.953Z"
   },
   {
    "duration": 1362,
    "start_time": "2024-06-03T23:31:49.388Z"
   },
   {
    "duration": 382,
    "start_time": "2024-06-03T23:31:50.753Z"
   },
   {
    "duration": 23,
    "start_time": "2024-06-03T23:31:51.137Z"
   },
   {
    "duration": 13,
    "start_time": "2024-06-03T23:31:51.165Z"
   },
   {
    "duration": 13,
    "start_time": "2024-06-03T23:31:51.181Z"
   },
   {
    "duration": 45,
    "start_time": "2024-06-03T23:31:51.197Z"
   },
   {
    "duration": 20,
    "start_time": "2024-06-03T23:31:51.245Z"
   },
   {
    "duration": 19,
    "start_time": "2024-06-03T23:31:51.267Z"
   },
   {
    "duration": 72,
    "start_time": "2024-06-03T23:31:51.288Z"
   },
   {
    "duration": 5,
    "start_time": "2024-06-03T23:31:51.365Z"
   },
   {
    "duration": 7,
    "start_time": "2024-06-03T23:31:51.374Z"
   },
   {
    "duration": 4,
    "start_time": "2024-06-03T23:31:51.385Z"
   },
   {
    "duration": 5,
    "start_time": "2024-06-03T23:31:51.394Z"
   },
   {
    "duration": 30,
    "start_time": "2024-06-03T23:31:51.403Z"
   },
   {
    "duration": 4166,
    "start_time": "2024-06-03T23:31:51.437Z"
   },
   {
    "duration": 1370,
    "start_time": "2024-06-03T23:36:12.705Z"
   },
   {
    "duration": 395,
    "start_time": "2024-06-03T23:36:14.079Z"
   },
   {
    "duration": 27,
    "start_time": "2024-06-03T23:36:14.477Z"
   },
   {
    "duration": 36,
    "start_time": "2024-06-03T23:36:14.508Z"
   },
   {
    "duration": 14,
    "start_time": "2024-06-03T23:36:14.548Z"
   },
   {
    "duration": 13,
    "start_time": "2024-06-03T23:36:14.566Z"
   },
   {
    "duration": 56,
    "start_time": "2024-06-03T23:36:14.583Z"
   },
   {
    "duration": 17,
    "start_time": "2024-06-03T23:36:14.643Z"
   },
   {
    "duration": 18,
    "start_time": "2024-06-03T23:36:14.663Z"
   },
   {
    "duration": 4,
    "start_time": "2024-06-03T23:36:14.685Z"
   },
   {
    "duration": 42,
    "start_time": "2024-06-03T23:36:14.692Z"
   },
   {
    "duration": 4,
    "start_time": "2024-06-03T23:36:14.738Z"
   },
   {
    "duration": 5,
    "start_time": "2024-06-03T23:36:14.745Z"
   },
   {
    "duration": 5,
    "start_time": "2024-06-03T23:36:14.755Z"
   },
   {
    "duration": 4156,
    "start_time": "2024-06-03T23:36:14.763Z"
   },
   {
    "duration": 4,
    "start_time": "2024-06-03T23:43:17.608Z"
   }
  ],
  "kernelspec": {
   "display_name": "Python 3 (ipykernel)",
   "language": "python",
   "name": "python3"
  },
  "language_info": {
   "codemirror_mode": {
    "name": "ipython",
    "version": 3
   },
   "file_extension": ".py",
   "mimetype": "text/x-python",
   "name": "python",
   "nbconvert_exporter": "python",
   "pygments_lexer": "ipython3",
   "version": "3.9.19"
  },
  "toc": {
   "base_numbering": 1,
   "nav_menu": {},
   "number_sections": true,
   "sideBar": true,
   "skip_h1_title": true,
   "title_cell": "Table of Contents",
   "title_sidebar": "Contents",
   "toc_cell": false,
   "toc_position": {},
   "toc_section_display": true,
   "toc_window_display": false
  }
 },
 "nbformat": 4,
 "nbformat_minor": 2
}
